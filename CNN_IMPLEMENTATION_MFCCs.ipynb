{
  "cells": [
    {
      "cell_type": "code",
      "execution_count": null,
      "id": "32b765d5",
      "metadata": {
        "id": "32b765d5"
      },
      "outputs": [],
      "source": [
        "import json\n",
        "import numpy as np\n",
        "from sklearn.model_selection import train_test_split\n",
        "import pandas as pd\n",
        "import tensorflow.keras as keras\n",
        "import sklearn.preprocessing as skp\n",
        "import matplotlib.pyplot as plt\n",
        "#split into training and testing\n",
        "seed=12\n",
        "np.random.seed(seed)"
      ]
    },
    {
      "cell_type": "code",
      "execution_count": null,
      "id": "fcea30a9",
      "metadata": {
        "id": "fcea30a9"
      },
      "outputs": [],
      "source": [
        "DATASET_PATH = \"C:/ML-Final-Project/data.json\""
      ]
    },
    {
      "cell_type": "code",
      "execution_count": null,
      "id": "82226da7",
      "metadata": {
        "id": "82226da7"
      },
      "outputs": [],
      "source": [
        "def load_data(dataset_path):\n",
        "    with open(dataset_path,\"r\") as fp:\n",
        "        data = json.load(fp)\n",
        "\n",
        "    #convert lists into numpy arrays\n",
        "        inputs = np.array(data[\"mfcc\"])\n",
        "        targets = np.array(data[\"labels\"])\n",
        "\n",
        "        return inputs, targets\n",
        ""
      ]
    },
    {
      "cell_type": "code",
      "execution_count": null,
      "id": "da57b512",
      "metadata": {
        "id": "da57b512",
        "outputId": "13aa76c5-4bad-405d-dcd5-1426f8ca7f5c"
      },
      "outputs": [
        {
          "data": {
            "text/plain": [
              "array([[[-2.42435989e+02,  1.02184860e+02, -9.91323471e+00, ...,\n",
              "         -3.95323610e+00, -2.40564537e+00, -2.38090658e+00],\n",
              "        [-2.12989746e+02,  1.03544777e+02, -1.08341732e+01, ...,\n",
              "         -5.81353188e+00,  2.64356709e+00, -2.80662155e+00],\n",
              "        [-1.95409332e+02,  1.04360657e+02, -1.85501546e-01, ...,\n",
              "         -1.08171635e+01, -5.88806152e-01, -5.28410530e+00],\n",
              "        ...,\n",
              "        [-1.24157700e+02,  6.37352219e+01,  2.11729393e+01, ...,\n",
              "         -1.65676613e+01,  1.37965155e+01, -2.31835365e+01],\n",
              "        [-1.11283928e+02,  6.05447235e+01,  1.33710325e+00, ...,\n",
              "         -1.22842140e+01,  1.48256054e+01, -1.58052368e+01],\n",
              "        [-1.31811951e+02,  6.65644531e+01, -7.93185997e+00, ...,\n",
              "         -8.66252136e+00,  1.16732750e+01, -8.72385788e+00]],\n",
              "\n",
              "       [[-1.71760757e+02,  8.67187042e+01, -1.29779539e+01, ...,\n",
              "         -7.98365927e+00,  3.68273497e+00, -4.20823431e+00],\n",
              "        [-1.53283447e+02,  9.38014526e+01, -2.03874569e+01, ...,\n",
              "         -7.75853252e+00,  8.76973343e+00, -9.67060661e+00],\n",
              "        [-1.64260010e+02,  9.80545425e+01, -2.59105644e+01, ...,\n",
              "         -6.87140751e+00,  1.37144995e+01, -7.40781355e+00],\n",
              "        ...,\n",
              "        [-1.92144089e+02,  1.12161606e+02, -1.85086117e+01, ...,\n",
              "         -5.79698038e+00,  1.01001511e+01, -5.63120651e+00],\n",
              "        [-1.36761780e+02,  1.17895721e+02, -6.85177708e+00, ...,\n",
              "         -7.53184128e+00,  1.16150837e+01, -6.23138070e-01],\n",
              "        [-1.19226776e+02,  1.15008316e+02,  4.01943111e+00, ...,\n",
              "         -1.17355080e+01,  1.06826344e+01,  3.05238032e+00]],\n",
              "\n",
              "       [[-1.29166855e+02,  1.07058235e+02, -7.27768612e+00, ...,\n",
              "         -3.58296061e+00,  9.42733955e+00,  4.78677082e+00],\n",
              "        [-1.20053070e+02,  1.13288795e+02, -9.96273136e+00, ...,\n",
              "         -6.17033911e+00,  8.41439819e+00, -3.55640292e-01],\n",
              "        [-1.50047852e+02,  1.24548141e+02, -6.92227268e+00, ...,\n",
              "         -1.00242748e+01,  7.37714767e+00, -6.65175247e+00],\n",
              "        ...,\n",
              "        [-8.82240524e+01,  1.35415100e+02, -1.79079971e+01, ...,\n",
              "         -1.87740765e+01,  1.43474998e+01,  5.09636879e+00],\n",
              "        [-9.76525726e+01,  1.31318146e+02, -1.36036663e+01, ...,\n",
              "         -1.30186520e+01,  3.22228003e+00,  9.21608067e+00],\n",
              "        [-9.25691833e+01,  1.33885040e+02, -9.84093857e+00, ...,\n",
              "         -6.46690130e+00,  3.52998883e-01,  1.65853539e+01]],\n",
              "\n",
              "       ...,\n",
              "\n",
              "       [[-2.69015533e+02,  1.50311768e+02, -7.90047741e+00, ...,\n",
              "          9.51696968e+00,  1.63699520e+00, -2.10230613e+00],\n",
              "        [-2.68430847e+02,  1.51792435e+02, -1.71128845e+01, ...,\n",
              "          1.02184858e+01,  3.29701614e+00, -4.17436218e+00],\n",
              "        [-2.73652008e+02,  1.38438507e+02, -2.24716721e+01, ...,\n",
              "          5.21958828e+00,  1.00758638e+01, -1.15522041e+01],\n",
              "        ...,\n",
              "        [-8.98028030e+01,  8.11278992e+01, -4.49360504e+01, ...,\n",
              "         -2.44618702e+01,  1.02359695e+01, -1.66469269e+01],\n",
              "        [-7.30307312e+01,  8.75726547e+01, -4.51013489e+01, ...,\n",
              "         -1.71793060e+01,  8.26076508e+00, -1.73466492e+01],\n",
              "        [-9.60961533e+01,  9.10035858e+01, -4.40736084e+01, ...,\n",
              "         -7.56222010e+00,  5.08268070e+00, -1.21836243e+01]],\n",
              "\n",
              "       [[-1.24071541e+02,  9.67639999e+01, -4.57598190e+01, ...,\n",
              "         -1.14095039e+01,  3.63434291e+00, -1.59257050e+01],\n",
              "        [-9.82225189e+01,  9.73184509e+01, -5.09867363e+01, ...,\n",
              "         -1.43515415e+01,  1.03953171e+01, -1.68199844e+01],\n",
              "        [-1.00717606e+02,  9.49095306e+01, -4.96056252e+01, ...,\n",
              "         -1.27359858e+01,  1.28839989e+01, -1.75166950e+01],\n",
              "        ...,\n",
              "        [-2.36689148e+02,  1.59329285e+02, -1.59213915e+01, ...,\n",
              "          5.37750196e+00,  9.44522667e+00, -1.17972288e+01],\n",
              "        [-2.33065353e+02,  1.53765869e+02, -5.59473038e+00, ...,\n",
              "          9.95290565e+00,  1.10458393e+01, -9.74688530e+00],\n",
              "        [-2.42060425e+02,  1.47104309e+02,  5.92238617e+00, ...,\n",
              "          1.00326328e+01,  6.15730810e+00, -6.61204720e+00]],\n",
              "\n",
              "       [[-2.56478210e+02,  1.44001984e+02,  4.64707375e+00, ...,\n",
              "          1.08160801e+01,  1.42564764e+01,  5.55617666e+00],\n",
              "        [-2.43179108e+02,  1.49932648e+02, -2.90988493e+00, ...,\n",
              "          9.16086006e+00,  1.31216488e+01, -4.17672992e-01],\n",
              "        [-2.54498505e+02,  1.51975464e+02, -1.59110489e+01, ...,\n",
              "          1.74661672e+00,  1.52043152e+01, -1.12185364e+01],\n",
              "        ...,\n",
              "        [-2.08708023e+02,  9.52822418e+01, -2.66111488e+01, ...,\n",
              "          3.32277441e+00,  2.81873207e+01, -9.65375900e+00],\n",
              "        [-2.01286850e+02,  8.95855865e+01, -2.51691494e+01, ...,\n",
              "          7.65368986e+00,  2.37434025e+01, -6.67907524e+00],\n",
              "        [-2.02806671e+02,  8.80865936e+01, -2.25670319e+01, ...,\n",
              "          1.18303776e+01,  2.09656219e+01, -4.42692614e+00]]])"
            ]
          },
          "execution_count": 5,
          "metadata": {},
          "output_type": "execute_result"
        }
      ],
      "source": [
        "#load data\n",
        "inputs,targets = load_data(DATASET_PATH)\n",
        "inputs"
      ]
    },
    {
      "cell_type": "code",
      "execution_count": null,
      "id": "31b6abff",
      "metadata": {
        "id": "31b6abff"
      },
      "outputs": [],
      "source": [
        "inputs"
      ]
    },
    {
      "cell_type": "code",
      "execution_count": null,
      "id": "59728fec",
      "metadata": {
        "id": "59728fec"
      },
      "outputs": [],
      "source": [
        "inputs_train,inputs_test,targets_train,targets_test = train_test_split(inputs,targets,test_size=0.3) #30% for testing"
      ]
    },
    {
      "cell_type": "code",
      "execution_count": null,
      "id": "a15a0a4e",
      "metadata": {
        "id": "a15a0a4e"
      },
      "outputs": [],
      "source": [
        "#netwokr architecture\n",
        "model = keras.Sequential([\n",
        "    #input layer\n",
        "    keras.layers.Flatten(input_shape=(inputs.shape[1],inputs.shape[2])),\n",
        "    #1st hidden layer\n",
        "    keras.layers.Dense(512,activation=\"relu\"),\n",
        "    #2nd hidden layer\n",
        "    keras.layers.Dense(256,activation=\"relu\"),\n",
        "\n",
        "    #3rd hidden layer\n",
        "    keras.layers.Dense(64,activation=\"relu\"),\n",
        "\n",
        "    #output layer\n",
        "    keras.layers.Dense(10,activation=\"softmax\")     #ACTIVATION FUNCTION TO NORMALIZE PREDICITIONS\n",
        "])\n",
        "\n",
        "#above model doens't account for overfitting"
      ]
    },
    {
      "cell_type": "code",
      "execution_count": null,
      "id": "7e4ac94d",
      "metadata": {
        "id": "7e4ac94d"
      },
      "outputs": [],
      "source": [
        "#compile network\n",
        "optimizer = keras.optimizers.Adam(learning_rate=0.0001)\n",
        "model.compile(optimizer=optimizer,loss=\"sparse_categorical_crossentropy\",metrics =[\"accuracy\"])\n",
        "model.summary()"
      ]
    },
    {
      "cell_type": "code",
      "execution_count": null,
      "id": "1bb15529",
      "metadata": {
        "id": "1bb15529"
      },
      "outputs": [],
      "source": [
        "def plot_history(history):\n",
        "\n",
        "    fig,axs = plt.subplots(2)\n",
        "\n",
        "    #create accuracy subplots:\n",
        "    # create accuracy sublpot\n",
        "    axs[0].plot(history.history[\"accuracy\"], label=\"train accuracy\")\n",
        "    axs[0].plot(history.history[\"val_accuracy\"], label=\"test accuracy\")\n",
        "    axs[0].set_ylabel(\"Accuracy\")\n",
        "    axs[0].legend(loc=\"lower right\")\n",
        "    axs[0].set_title(\"Accuracy eval\")\n",
        "\n",
        "    # create error sublpot\n",
        "    axs[1].plot(history.history[\"loss\"], label=\"train error\")\n",
        "    axs[1].plot(history.history[\"val_loss\"], label=\"test error\")\n",
        "    axs[1].set_ylabel(\"Error\")\n",
        "    axs[1].set_xlabel(\"Epoch\")\n",
        "    axs[1].legend(loc=\"upper right\")\n",
        "    axs[1].set_title(\"Error eval\")\n",
        "\n",
        "    plt.show()\n",
        "\n",
        "def prepare_datasets(test_size, validation_size):\n",
        "    \"\"\"Loads data and splits it into train, validation and test sets.\n",
        "    :param test_size (float): Value in [0, 1] indicating percentage of data set to allocate to test split\n",
        "    :param validation_size (float): Value in [0, 1] indicating percentage of train set to allocate to validation split\n",
        "    :return X_train (ndarray): Input training set\n",
        "    :return X_validation (ndarray): Input validation set\n",
        "    :return X_test (ndarray): Input test set\n",
        "    :return y_train (ndarray): Target training set\n",
        "    :return y_validation (ndarray): Target validation set\n",
        "    :return y_test (ndarray): Target test set\n",
        "    :return z : Mappings for data\n",
        "    \"\"\"\n",
        "\n",
        "    # load data\n",
        "    X, y, z = load_data(DATA_PATH)\n",
        "\n",
        "    # create train, validation and test split\n",
        "    X_train, X_test, y_train, y_test = train_test_split(X, y, test_size=test_size)\n",
        "    X_train, X_validation, y_train, y_validation = train_test_split(X_train, y_train, test_size=validation_size)\n",
        "\n",
        "    # add an axis to input sets\n",
        "    X_train = X_train[..., np.newaxis]\n",
        "    X_validation = X_validation[..., np.newaxis]\n",
        "    X_test = X_test[..., np.newaxis]\n",
        "    return X_train, X_validation, X_test, y_train, y_validation, y_test, z\n"
      ]
    },
    {
      "cell_type": "code",
      "execution_count": null,
      "id": "a2abfede",
      "metadata": {
        "id": "a2abfede"
      },
      "outputs": [],
      "source": [
        "#train the network\n",
        "history = model.fit(inputs_train,targets_train,validation_data=(inputs_test,targets_test),epochs=50,batch_size=32)\n",
        "\n",
        "#plot the accuracy and error over epochs\n"
      ]
    },
    {
      "cell_type": "code",
      "execution_count": null,
      "id": "b8f6ae1c",
      "metadata": {
        "id": "b8f6ae1c"
      },
      "outputs": [],
      "source": [
        "plot_history(history)"
      ]
    },
    {
      "cell_type": "code",
      "execution_count": null,
      "id": "14fa5a7b",
      "metadata": {
        "id": "14fa5a7b",
        "outputId": "a42f847d-7c6e-4631-cc44-e3093a976462"
      },
      "outputs": [
        {
          "name": "stdout",
          "output_type": "stream",
          "text": [
            "Model: \"sequential_1\"\n",
            "_________________________________________________________________\n",
            "Layer (type)                 Output Shape              Param #   \n",
            "=================================================================\n",
            "flatten_1 (Flatten)          (None, 1690)              0         \n",
            "_________________________________________________________________\n",
            "dense_4 (Dense)              (None, 512)               865792    \n",
            "_________________________________________________________________\n",
            "dropout (Dropout)            (None, 512)               0         \n",
            "_________________________________________________________________\n",
            "dense_5 (Dense)              (None, 256)               131328    \n",
            "_________________________________________________________________\n",
            "dropout_1 (Dropout)          (None, 256)               0         \n",
            "_________________________________________________________________\n",
            "dense_6 (Dense)              (None, 64)                16448     \n",
            "_________________________________________________________________\n",
            "dropout_2 (Dropout)          (None, 64)                0         \n",
            "_________________________________________________________________\n",
            "dense_7 (Dense)              (None, 10)                650       \n",
            "=================================================================\n",
            "Total params: 1,014,218\n",
            "Trainable params: 1,014,218\n",
            "Non-trainable params: 0\n",
            "_________________________________________________________________\n"
          ]
        }
      ],
      "source": [
        "#ACCOUNT FOR OVERFITTING\n",
        "model2 = keras.Sequential([\n",
        "    #input layer\n",
        "    keras.layers.Flatten(input_shape=(inputs.shape[1],inputs.shape[2])),\n",
        "\n",
        "    #1st hidden layer\n",
        "    keras.layers.Dense(512,activation=\"relu\",kernel_regularizer=keras.regularizers.l2(0.001)),\n",
        "    keras.layers.Dropout(0.3),\n",
        "    #2nd hidden layer\n",
        "    keras.layers.Dense(256,activation=\"relu\",kernel_regularizer=keras.regularizers.l2(0.001)),\n",
        "    keras.layers.Dropout(0.3),\n",
        "    #3rd hidden layer\n",
        "    keras.layers.Dense(64,activation=\"relu\",kernel_regularizer=keras.regularizers.l2(0.001)),\n",
        "    keras.layers.Dropout(0.3),\n",
        "    #output layer\n",
        "    keras.layers.Dense(10,activation=\"softmax\")     #ACTIVATION FUNCTION TO NORMALIZE PREDICITIONS\n",
        "])\n",
        "\n",
        "#compile network\n",
        "optimizer = keras.optimizers.Adam(learning_rate=0.0001)\n",
        "model2.compile(optimizer=optimizer,loss=\"sparse_categorical_crossentropy\",metrics =[\"accuracy\"])\n",
        "model2.summary()"
      ]
    },
    {
      "cell_type": "code",
      "execution_count": null,
      "id": "c1665f5a",
      "metadata": {
        "id": "c1665f5a",
        "outputId": "f55478b0-119a-43d8-fb4b-decd58a5784d"
      },
      "outputs": [
        {
          "name": "stdout",
          "output_type": "stream",
          "text": [
            "Epoch 1/50\n",
            "219/219 [==============================] - 2s 9ms/step - loss: 24.3435 - accuracy: 0.1548 - val_loss: 3.4727 - val_accuracy: 0.1879\n",
            "Epoch 2/50\n",
            "219/219 [==============================] - 2s 9ms/step - loss: 6.2468 - accuracy: 0.1346 - val_loss: 3.4950 - val_accuracy: 0.1265\n",
            "Epoch 3/50\n",
            "219/219 [==============================] - 2s 8ms/step - loss: 4.3455 - accuracy: 0.1259 - val_loss: 3.5054 - val_accuracy: 0.1145\n",
            "Epoch 4/50\n",
            "219/219 [==============================] - 2s 8ms/step - loss: 3.8442 - accuracy: 0.1213 - val_loss: 3.4946 - val_accuracy: 0.1218\n",
            "Epoch 5/50\n",
            "219/219 [==============================] - 2s 8ms/step - loss: 3.7034 - accuracy: 0.1286 - val_loss: 3.4867 - val_accuracy: 0.1238\n",
            "Epoch 6/50\n",
            "219/219 [==============================] - 2s 9ms/step - loss: 3.6300 - accuracy: 0.1230 - val_loss: 3.4833 - val_accuracy: 0.1215\n",
            "Epoch 7/50\n",
            "219/219 [==============================] - 2s 9ms/step - loss: 3.5542 - accuracy: 0.1338 - val_loss: 3.4468 - val_accuracy: 0.1505\n",
            "Epoch 8/50\n",
            "219/219 [==============================] - 2s 9ms/step - loss: 3.5200 - accuracy: 0.1386 - val_loss: 3.4475 - val_accuracy: 0.1419\n",
            "Epoch 9/50\n",
            "219/219 [==============================] - 2s 8ms/step - loss: 3.4874 - accuracy: 0.1482 - val_loss: 3.4121 - val_accuracy: 0.1609\n",
            "Epoch 10/50\n",
            "219/219 [==============================] - 2s 8ms/step - loss: 3.4670 - accuracy: 0.1568 - val_loss: 3.3754 - val_accuracy: 0.1789\n",
            "Epoch 11/50\n",
            "219/219 [==============================] - 2s 8ms/step - loss: 3.4378 - accuracy: 0.1657 - val_loss: 3.3934 - val_accuracy: 0.1592\n",
            "Epoch 12/50\n",
            "219/219 [==============================] - 2s 9ms/step - loss: 3.4084 - accuracy: 0.1704 - val_loss: 3.3336 - val_accuracy: 0.1913\n",
            "Epoch 13/50\n",
            "219/219 [==============================] - 2s 9ms/step - loss: 3.4055 - accuracy: 0.1817 - val_loss: 3.3310 - val_accuracy: 0.1839\n",
            "Epoch 14/50\n",
            "219/219 [==============================] - 2s 8ms/step - loss: 3.3518 - accuracy: 0.1890 - val_loss: 3.2694 - val_accuracy: 0.2180\n",
            "Epoch 15/50\n",
            "219/219 [==============================] - 2s 8ms/step - loss: 3.3242 - accuracy: 0.1989 - val_loss: 3.2259 - val_accuracy: 0.2400\n",
            "Epoch 16/50\n",
            "219/219 [==============================] - 2s 8ms/step - loss: 3.3130 - accuracy: 0.2020 - val_loss: 3.2149 - val_accuracy: 0.2397\n",
            "Epoch 17/50\n",
            "219/219 [==============================] - 2s 8ms/step - loss: 3.2743 - accuracy: 0.2147 - val_loss: 3.1937 - val_accuracy: 0.2457\n",
            "Epoch 18/50\n",
            "219/219 [==============================] - 2s 9ms/step - loss: 3.2402 - accuracy: 0.2213 - val_loss: 3.2075 - val_accuracy: 0.2263\n",
            "Epoch 19/50\n",
            "219/219 [==============================] - 2s 10ms/step - loss: 3.2089 - accuracy: 0.2282 - val_loss: 3.1320 - val_accuracy: 0.2647\n",
            "Epoch 20/50\n",
            "219/219 [==============================] - 2s 9ms/step - loss: 3.1991 - accuracy: 0.2302 - val_loss: 3.1218 - val_accuracy: 0.2577\n",
            "Epoch 21/50\n",
            "219/219 [==============================] - 2s 9ms/step - loss: 3.1576 - accuracy: 0.2375 - val_loss: 3.0984 - val_accuracy: 0.2580\n",
            "Epoch 22/50\n",
            "219/219 [==============================] - 2s 10ms/step - loss: 3.1377 - accuracy: 0.2349 - val_loss: 3.0711 - val_accuracy: 0.2647\n",
            "Epoch 23/50\n",
            "219/219 [==============================] - 2s 8ms/step - loss: 3.0951 - accuracy: 0.2428 - val_loss: 3.0695 - val_accuracy: 0.2547\n",
            "Epoch 24/50\n",
            "219/219 [==============================] - 2s 9ms/step - loss: 3.0773 - accuracy: 0.2454 - val_loss: 3.0280 - val_accuracy: 0.2664\n",
            "Epoch 25/50\n",
            "219/219 [==============================] - 2s 11ms/step - loss: 3.0565 - accuracy: 0.2452 - val_loss: 2.9840 - val_accuracy: 0.2777\n",
            "Epoch 26/50\n",
            "219/219 [==============================] - 2s 11ms/step - loss: 3.0350 - accuracy: 0.2488 - val_loss: 2.9992 - val_accuracy: 0.2637\n",
            "Epoch 27/50\n",
            "219/219 [==============================] - 2s 10ms/step - loss: 3.0103 - accuracy: 0.2552 - val_loss: 2.9818 - val_accuracy: 0.2573\n",
            "Epoch 28/50\n",
            "219/219 [==============================] - 2s 10ms/step - loss: 2.9805 - accuracy: 0.2541 - val_loss: 2.9212 - val_accuracy: 0.2774\n",
            "Epoch 29/50\n",
            "219/219 [==============================] - 2s 9ms/step - loss: 2.9608 - accuracy: 0.2598 - val_loss: 2.8922 - val_accuracy: 0.2870\n",
            "Epoch 30/50\n",
            "219/219 [==============================] - 2s 9ms/step - loss: 2.9443 - accuracy: 0.2582 - val_loss: 2.8827 - val_accuracy: 0.2847\n",
            "Epoch 31/50\n",
            "219/219 [==============================] - 2s 9ms/step - loss: 2.8855 - accuracy: 0.2712 - val_loss: 2.8257 - val_accuracy: 0.3041\n",
            "Epoch 32/50\n",
            "219/219 [==============================] - 2s 9ms/step - loss: 2.8526 - accuracy: 0.2730 - val_loss: 2.8250 - val_accuracy: 0.2961\n",
            "Epoch 33/50\n",
            "219/219 [==============================] - 2s 9ms/step - loss: 2.8335 - accuracy: 0.2755 - val_loss: 2.7798 - val_accuracy: 0.3094\n",
            "Epoch 34/50\n",
            "219/219 [==============================] - 2s 9ms/step - loss: 2.7978 - accuracy: 0.2823 - val_loss: 2.7643 - val_accuracy: 0.3024\n",
            "Epoch 35/50\n",
            "219/219 [==============================] - 2s 9ms/step - loss: 2.7701 - accuracy: 0.2863 - val_loss: 2.7313 - val_accuracy: 0.3084\n",
            "Epoch 36/50\n",
            "219/219 [==============================] - 2s 9ms/step - loss: 2.7529 - accuracy: 0.2831 - val_loss: 2.7052 - val_accuracy: 0.3097\n",
            "Epoch 37/50\n",
            "219/219 [==============================] - 2s 9ms/step - loss: 2.7256 - accuracy: 0.2880 - val_loss: 2.6925 - val_accuracy: 0.3064\n",
            "Epoch 38/50\n",
            "219/219 [==============================] - 2s 9ms/step - loss: 2.6836 - accuracy: 0.2961 - val_loss: 2.6676 - val_accuracy: 0.3191\n",
            "Epoch 39/50\n",
            "219/219 [==============================] - 2s 9ms/step - loss: 2.6409 - accuracy: 0.3052 - val_loss: 2.6234 - val_accuracy: 0.3264\n",
            "Epoch 40/50\n",
            "219/219 [==============================] - 2s 8ms/step - loss: 2.6155 - accuracy: 0.3103 - val_loss: 2.6058 - val_accuracy: 0.3331\n",
            "Epoch 41/50\n",
            "219/219 [==============================] - 2s 8ms/step - loss: 2.5853 - accuracy: 0.3089 - val_loss: 2.5885 - val_accuracy: 0.3281\n",
            "Epoch 42/50\n",
            "219/219 [==============================] - 2s 9ms/step - loss: 2.5727 - accuracy: 0.3172 - val_loss: 2.5465 - val_accuracy: 0.3281\n",
            "Epoch 43/50\n",
            "219/219 [==============================] - 2s 9ms/step - loss: 2.5325 - accuracy: 0.3245 - val_loss: 2.5280 - val_accuracy: 0.3408\n",
            "Epoch 44/50\n",
            "219/219 [==============================] - 2s 9ms/step - loss: 2.4973 - accuracy: 0.3290 - val_loss: 2.4784 - val_accuracy: 0.3561\n",
            "Epoch 45/50\n",
            "219/219 [==============================] - 2s 9ms/step - loss: 2.4587 - accuracy: 0.3438 - val_loss: 2.4771 - val_accuracy: 0.3525\n",
            "Epoch 46/50\n",
            "219/219 [==============================] - 2s 8ms/step - loss: 2.4337 - accuracy: 0.3499 - val_loss: 2.4417 - val_accuracy: 0.3621\n",
            "Epoch 47/50\n",
            "219/219 [==============================] - 2s 9ms/step - loss: 2.3931 - accuracy: 0.3539 - val_loss: 2.4038 - val_accuracy: 0.3975\n",
            "Epoch 48/50\n",
            "219/219 [==============================] - 2s 9ms/step - loss: 2.3811 - accuracy: 0.3571 - val_loss: 2.4261 - val_accuracy: 0.3588\n",
            "Epoch 49/50\n",
            "219/219 [==============================] - 2s 9ms/step - loss: 2.3572 - accuracy: 0.3621 - val_loss: 2.3764 - val_accuracy: 0.3708\n",
            "Epoch 50/50\n",
            "219/219 [==============================] - 2s 9ms/step - loss: 2.3241 - accuracy: 0.3668 - val_loss: 2.3642 - val_accuracy: 0.3882\n"
          ]
        }
      ],
      "source": [
        "history2 = model2.fit(inputs_train,targets_train,validation_data=(inputs_test,targets_test),epochs=50,batch_size=32)"
      ]
    },
    {
      "cell_type": "code",
      "execution_count": null,
      "id": "b6f6ed4f",
      "metadata": {
        "id": "b6f6ed4f",
        "outputId": "b640a7cc-b625-48cd-9676-4098ed588e72"
      },
      "outputs": [
        {
          "data": {
            "image/png": "[encoded data removed]",
            "text/plain": [
              "<Figure size 432x288 with 2 Axes>"
            ]
          },
          "metadata": {
            "needs_background": "light"
          },
          "output_type": "display_data"
        }
      ],
      "source": [
        "plot_history(history2)"
      ]
    },
    {
      "cell_type": "code",
      "execution_count": null,
      "id": "f6992194",
      "metadata": {
        "id": "f6992194"
      },
      "outputs": [],
      "source": [
        "###BUILDING A CNN"
      ]
    },
    {
      "cell_type": "code",
      "execution_count": null,
      "id": "64f7442d",
      "metadata": {
        "id": "64f7442d"
      },
      "outputs": [],
      "source": [
        "def prepare_datasets(test_size,validation_size):\n",
        "    X,y = load_data(DATASET_PATH)\n",
        "\n",
        "    #split into train and test sets\n",
        "    X_train,X_test,y_train,y_test = train_test_split(X,y,test_size=test_size)\n",
        "\n",
        "    #create train/validation split\n",
        "    X_train,X_validation,y_train,y_validation = train_test_split(X_train,y_train,test_size=validation_size)\n",
        "\n",
        "    #3d-array expected  ->1 channel only\n",
        "    X_train = X_train[...,np.newaxis]\n",
        "    X_validation = X_validation[...,np.newaxis]\n",
        "    X_test = X_test[...,np.newaxis]\n",
        "\n",
        "    return X_train, X_validation, X_test, y_train,y_validation,y_test"
      ]
    },
    {
      "cell_type": "code",
      "execution_count": null,
      "id": "67dc67b7",
      "metadata": {
        "id": "67dc67b7",
        "outputId": "bcda0e78-11eb-4e5b-f552-2d9e6b334be1"
      },
      "outputs": [
        {
          "data": {
            "text/plain": [
              "4"
            ]
          },
          "execution_count": 5,
          "metadata": {},
          "output_type": "execute_result"
        }
      ],
      "source": [
        "X_train, X_validation, X_test, y_train,y_validation,y_test = prepare_datasets(0.25,0.2)\n",
        "X_train.ndim"
      ]
    },
    {
      "cell_type": "code",
      "execution_count": null,
      "id": "5968e8f1",
      "metadata": {
        "id": "5968e8f1"
      },
      "outputs": [],
      "source": [
        "def build_model(input_shape):\n",
        "    #create model\n",
        "    model = keras.Sequential()\n",
        "\n",
        "    #1st conv layer\n",
        "    model.add(keras.layers.Conv2D(128,(2,2),activation='relu',input_shape=input_shape))\n",
        "    model.add(keras.layers.MaxPool2D((3,3),strides=(2,2),padding='same'))\n",
        "    model.add(keras.layers.BatchNormalization())\n",
        "\n",
        "    #2nd conv layer\n",
        "    model.add(keras.layers.Conv2D(64,(2,2),activation='relu',input_shape=input_shape))\n",
        "    model.add(keras.layers.MaxPool2D((2,2),strides=(2,2),padding='same'))\n",
        "    model.add(keras.layers.BatchNormalization())\n",
        "\n",
        "    #3rd conv layer\n",
        "    model.add(keras.layers.Conv2D(32,(2,2),activation='relu',input_shape=input_shape))\n",
        "    model.add(keras.layers.MaxPool2D((2,2),strides=(2,2),padding='same'))\n",
        "    model.add(keras.layers.BatchNormalization())\n",
        "\n",
        "    #flatten output and feed to dense layer\n",
        "    model.add(keras.layers.Flatten())\n",
        "    model.add(keras.layers.Dense(64,activation='relu'))\n",
        "    model.add(keras.layers.Dropout(0.3))\n",
        "\n",
        "    #output layer\n",
        "    model.add(keras.layers.Dense(10,activation='softmax'))\n",
        "\n",
        "    return model"
      ]
    },
    {
      "cell_type": "code",
      "execution_count": null,
      "id": "e8d79a4c",
      "metadata": {
        "id": "e8d79a4c",
        "outputId": "777ffb3b-2c17-489f-afd3-4e47cc15ca36"
      },
      "outputs": [
        {
          "name": "stdout",
          "output_type": "stream",
          "text": [
            "Epoch 1/30\n",
            "188/188 [==============================] - 17s 90ms/step - loss: 2.3570 - accuracy: 0.2277 - val_loss: 1.8208 - val_accuracy: 0.3558\n",
            "Epoch 2/30\n",
            "188/188 [==============================] - 16s 88ms/step - loss: 1.8067 - accuracy: 0.3701 - val_loss: 1.5323 - val_accuracy: 0.4720\n",
            "Epoch 3/30\n",
            "188/188 [==============================] - 18s 93ms/step - loss: 1.6052 - accuracy: 0.4286 - val_loss: 1.3944 - val_accuracy: 0.5107\n",
            "Epoch 4/30\n",
            "188/188 [==============================] - 18s 94ms/step - loss: 1.4751 - accuracy: 0.4735 - val_loss: 1.3398 - val_accuracy: 0.5220\n",
            "Epoch 5/30\n",
            "188/188 [==============================] - 18s 94ms/step - loss: 1.3857 - accuracy: 0.5036 - val_loss: 1.2408 - val_accuracy: 0.5701\n",
            "Epoch 6/30\n",
            "188/188 [==============================] - 18s 95ms/step - loss: 1.3097 - accuracy: 0.5345 - val_loss: 1.1744 - val_accuracy: 0.5868\n",
            "Epoch 7/30\n",
            "188/188 [==============================] - 18s 96ms/step - loss: 1.2622 - accuracy: 0.5550 - val_loss: 1.1469 - val_accuracy: 0.5995\n",
            "Epoch 8/30\n",
            "188/188 [==============================] - 19s 103ms/step - loss: 1.1946 - accuracy: 0.5857 - val_loss: 1.1000 - val_accuracy: 0.6108\n",
            "Epoch 9/30\n",
            "188/188 [==============================] - 18s 96ms/step - loss: 1.1436 - accuracy: 0.5986 - val_loss: 1.0775 - val_accuracy: 0.6215\n",
            "Epoch 10/30\n",
            "188/188 [==============================] - 18s 95ms/step - loss: 1.1026 - accuracy: 0.6148 - val_loss: 1.0383 - val_accuracy: 0.6328\n",
            "Epoch 11/30\n",
            "188/188 [==============================] - 18s 97ms/step - loss: 1.0501 - accuracy: 0.6286 - val_loss: 1.0063 - val_accuracy: 0.6569\n",
            "Epoch 12/30\n",
            "188/188 [==============================] - 19s 101ms/step - loss: 1.0116 - accuracy: 0.6503 - val_loss: 0.9535 - val_accuracy: 0.6555\n",
            "Epoch 13/30\n",
            "188/188 [==============================] - 19s 99ms/step - loss: 0.9962 - accuracy: 0.6535 - val_loss: 0.9441 - val_accuracy: 0.6702\n",
            "Epoch 14/30\n",
            "188/188 [==============================] - 18s 97ms/step - loss: 0.9571 - accuracy: 0.6765 - val_loss: 0.9975 - val_accuracy: 0.6582\n",
            "Epoch 15/30\n",
            "188/188 [==============================] - 18s 97ms/step - loss: 0.9310 - accuracy: 0.6753 - val_loss: 0.9770 - val_accuracy: 0.6455\n",
            "Epoch 16/30\n",
            "188/188 [==============================] - 18s 97ms/step - loss: 0.9014 - accuracy: 0.6875 - val_loss: 0.9097 - val_accuracy: 0.6889\n",
            "Epoch 17/30\n",
            "188/188 [==============================] - 19s 100ms/step - loss: 0.8925 - accuracy: 0.6905 - val_loss: 0.8876 - val_accuracy: 0.6936\n",
            "Epoch 18/30\n",
            "188/188 [==============================] - 19s 102ms/step - loss: 0.8447 - accuracy: 0.7106 - val_loss: 0.8816 - val_accuracy: 0.6883\n",
            "Epoch 19/30\n",
            "188/188 [==============================] - 18s 98ms/step - loss: 0.8117 - accuracy: 0.7167 - val_loss: 0.8450 - val_accuracy: 0.7076\n",
            "Epoch 20/30\n",
            "188/188 [==============================] - 19s 99ms/step - loss: 0.7834 - accuracy: 0.7353 - val_loss: 0.8728 - val_accuracy: 0.6929\n",
            "Epoch 21/30\n",
            "188/188 [==============================] - 19s 100ms/step - loss: 0.7870 - accuracy: 0.7268 - val_loss: 0.8609 - val_accuracy: 0.7049\n",
            "Epoch 22/30\n",
            "188/188 [==============================] - 19s 103ms/step - loss: 0.7690 - accuracy: 0.7331 - val_loss: 0.8850 - val_accuracy: 0.6983\n",
            "Epoch 23/30\n",
            "188/188 [==============================] - 19s 101ms/step - loss: 0.7428 - accuracy: 0.7460 - val_loss: 0.8114 - val_accuracy: 0.7210\n",
            "Epoch 24/30\n",
            "188/188 [==============================] - 19s 101ms/step - loss: 0.7215 - accuracy: 0.7560 - val_loss: 0.8228 - val_accuracy: 0.7109\n",
            "Epoch 25/30\n",
            "188/188 [==============================] - 19s 102ms/step - loss: 0.7252 - accuracy: 0.7481 - val_loss: 0.8322 - val_accuracy: 0.7109\n",
            "Epoch 26/30\n",
            "188/188 [==============================] - 19s 103ms/step - loss: 0.6887 - accuracy: 0.7548 - val_loss: 0.8108 - val_accuracy: 0.7116\n",
            "Epoch 27/30\n",
            "188/188 [==============================] - 19s 103ms/step - loss: 0.6656 - accuracy: 0.7760 - val_loss: 0.8093 - val_accuracy: 0.7123\n",
            "Epoch 28/30\n",
            "188/188 [==============================] - 19s 104ms/step - loss: 0.6341 - accuracy: 0.7820 - val_loss: 0.8640 - val_accuracy: 0.7023\n",
            "Epoch 29/30\n",
            "188/188 [==============================] - 20s 107ms/step - loss: 0.6367 - accuracy: 0.7800 - val_loss: 0.8021 - val_accuracy: 0.7156\n",
            "Epoch 30/30\n",
            "188/188 [==============================] - 20s 104ms/step - loss: 0.6142 - accuracy: 0.7904 - val_loss: 0.8299 - val_accuracy: 0.7176\n"
          ]
        },
        {
          "ename": "NameError",
          "evalue": "name 'model' is not defined",
          "output_type": "error",
          "traceback": [
            "\u001b[1;31m---------------------------------------------------------------------------\u001b[0m",
            "\u001b[1;31mNameError\u001b[0m                                 Traceback (most recent call last)",
            "\u001b[1;32m~\\AppData\\Local\\Temp\\ipykernel_5288\\187136238.py\u001b[0m in \u001b[0;36m<module>\u001b[1;34m\u001b[0m\n\u001b[0;32m     12\u001b[0m \u001b[1;33m\u001b[0m\u001b[0m\n\u001b[0;32m     13\u001b[0m \u001b[1;31m#evaluate CNN on test ste\u001b[0m\u001b[1;33m\u001b[0m\u001b[1;33m\u001b[0m\u001b[1;33m\u001b[0m\u001b[0m\n\u001b[1;32m---> 14\u001b[1;33m \u001b[0mtest_error\u001b[0m\u001b[1;33m,\u001b[0m\u001b[0mtest_accuracy\u001b[0m \u001b[1;33m=\u001b[0m \u001b[0mmodel\u001b[0m\u001b[1;33m.\u001b[0m\u001b[0mevaluate\u001b[0m\u001b[1;33m(\u001b[0m\u001b[0mX_test\u001b[0m\u001b[1;33m,\u001b[0m\u001b[0my_test\u001b[0m\u001b[1;33m,\u001b[0m\u001b[0mverbose\u001b[0m\u001b[1;33m=\u001b[0m\u001b[1;36m1\u001b[0m\u001b[1;33m)\u001b[0m\u001b[1;33m\u001b[0m\u001b[1;33m\u001b[0m\u001b[0m\n\u001b[0m\u001b[0;32m     15\u001b[0m \u001b[0mprint\u001b[0m\u001b[1;33m(\u001b[0m\u001b[1;34m\"Accuracy on test set is:{}\"\u001b[0m\u001b[1;33m.\u001b[0m\u001b[0mformat\u001b[0m\u001b[1;33m(\u001b[0m\u001b[0mtest_accuracy\u001b[0m\u001b[1;33m)\u001b[0m\u001b[1;33m)\u001b[0m\u001b[1;33m\u001b[0m\u001b[1;33m\u001b[0m\u001b[0m\n",
            "\u001b[1;31mNameError\u001b[0m: name 'model' is not defined"
          ]
        }
      ],
      "source": [
        "#Building the CNN\n",
        "input_shape = (X_train.shape[1],X_train.shape[2],X_train.shape[3]) #X_train is a 4D array\n",
        "model3= build_model(input_shape)\n",
        "\n",
        "#compile the network\n",
        "optimizer = keras.optimizers.Adam(learning_rate=0.0001)\n",
        "model3.compile(optimizer=optimizer,loss=\"sparse_categorical_crossentropy\",metrics =[\"accuracy\"])\n",
        "\n",
        "#train the model\n",
        "model3.fit(X_train,y_train,validation_data=(X_validation,y_validation),batch_size=32,epochs=30)\n",
        "\n",
        "\n",
        "#evaluate CNN on test ste\n",
        "test_error,test_accuracy = model.evaluate(X_test,y_test,verbose=1)\n",
        "print(\"Accuracy on test set is:{}\".format(test_accuracy))\n"
      ]
    },
    {
      "cell_type": "code",
      "execution_count": null,
      "id": "f7f3da48",
      "metadata": {
        "id": "f7f3da48",
        "outputId": "c6e70707-7360-474e-eef1-76a2fc611afb"
      },
      "outputs": [
        {
          "name": "stdout",
          "output_type": "stream",
          "text": [
            "79/79 [==============================] - 2s 19ms/step - loss: 0.8610 - accuracy: 0.6972\n",
            "Accuracy on test set is:0.6972366571426392\n"
          ]
        }
      ],
      "source": [
        "#evaluate CNN on test ste\n",
        "test_error,test_accuracy = model3.evaluate(X_test,y_test,verbose=1)\n",
        "print(\"Accuracy on test set is:{}\".format(test_accuracy))"
      ]
    },
    {
      "cell_type": "code",
      "execution_count": null,
      "id": "d12d4ba2",
      "metadata": {
        "id": "d12d4ba2"
      },
      "outputs": [],
      "source": [
        "def predict(model,X,y):\n",
        "    X = X[np.newaxis, ...]\n",
        "    prediction = model.predict(X)  #X is a 3D array and predicition is a 2d array\n",
        "\n",
        "    #extract index with max value\n",
        "    predicted_index = np.argmax(prediction,axis=1)\n",
        "    print(\"The expected index:{}, Predicted index:{}\".format(y,predicted_index))"
      ]
    },
    {
      "cell_type": "code",
      "execution_count": null,
      "id": "d2ed4636",
      "metadata": {
        "id": "d2ed4636",
        "outputId": "e168f0d3-cc26-4662-c550-d1d4b80351f1"
      },
      "outputs": [
        {
          "name": "stdout",
          "output_type": "stream",
          "text": [
            "The expected index:6, Predicted index:[6]\n"
          ]
        }
      ],
      "source": [
        "#make prediciton on a smaple\n",
        "X =X_test[70]\n",
        "y = y_test[70]\n",
        "predict(model3,X,y)"
      ]
    },
    {
      "cell_type": "code",
      "execution_count": null,
      "id": "01957f99",
      "metadata": {
        "id": "01957f99",
        "outputId": "466ab60e-2219-420d-9944-5742ddf59de7"
      },
      "outputs": [
        {
          "data": {
            "text/plain": [
              "2497"
            ]
          },
          "execution_count": 9,
          "metadata": {},
          "output_type": "execute_result"
        }
      ],
      "source": [
        "len(X_test)\n",
        "y_pred = []\n",
        "for i in range(len(X_test)):\n",
        "    Y = X_test[i]\n",
        "    Y = Y[np.newaxis,...]\n",
        "    prediction = model3.predict(Y)\n",
        "    y_pred.append(np.argmax(prediction,axis=1))\n",
        "len(y_pred)"
      ]
    },
    {
      "cell_type": "code",
      "execution_count": null,
      "id": "a72e953c",
      "metadata": {
        "id": "a72e953c"
      },
      "outputs": [],
      "source": [
        "from sklearn.metrics import confusion_matrix, f1_score, accuracy_score, roc_auc_score, roc_curve, auc\n",
        "from scipy import interp\n",
        "import itertools\n",
        "from itertools import cycle\n",
        "def plot_confusion_matrix(cm, classes,\n",
        "                          normalize=False,\n",
        "                          title='Confusion matrix',\n",
        "                          cmap=plt.cm.Blues):\n",
        "    \"\"\"\n",
        "    This function prints and plots the confusion matrix.\n",
        "    Normalization can be applied by setting `normalize=True`.\n",
        "    \"\"\"\n",
        "    plt.imshow(cm, interpolation='nearest', cmap=cmap)\n",
        "    plt.title(title)\n",
        "    plt.colorbar()\n",
        "    tick_marks = np.arange(len(classes))\n",
        "    plt.xticks(tick_marks, classes, rotation=45)\n",
        "    plt.yticks(tick_marks, classes)\n",
        "\n",
        "    if normalize:\n",
        "        cm = cm.astype('float') / cm.sum(axis=1)[:, np.newaxis]\n",
        "        print(\"Normalized confusion matrix\")\n",
        "    else:\n",
        "        print('Confusion matrix, without normalization')\n",
        "\n",
        "    print(cm)\n",
        "\n",
        "    thresh = cm.max() / 2.\n",
        "    for i, j in itertools.product(range(cm.shape[0]), range(cm.shape[1])):\n",
        "        plt.text(j, i, cm[i, j],\n",
        "                 horizontalalignment=\"center\",\n",
        "                 color=\"white\" if cm[i, j] > thresh else \"black\")\n",
        "\n",
        "    plt.tight_layout()\n",
        "    plt.ylabel('True label')\n",
        "    plt.xlabel('Predicted label')\n",
        "\n",
        "    plt.savefig('CNN-Confusion-Matrix.jpg')\n",
        "\n",
        "def one_hot_encoder(true_labels, num_records, num_classes):\n",
        "    temp = np.array(true_labels[:num_records])\n",
        "    true_labels = np.zeros((num_records, num_classes))\n",
        "    true_labels[np.arange(num_records), temp] = 1\n",
        "    return true_labels"
      ]
    },
    {
      "cell_type": "code",
      "execution_count": null,
      "id": "7a19f9de",
      "metadata": {
        "id": "7a19f9de",
        "outputId": "e842b79e-da68-472a-dc8e-3ead7aca6c8c"
      },
      "outputs": [
        {
          "data": {
            "text/plain": [
              "dict_keys(['blues', 'classical', 'country', 'disco', 'hiphop', 'jazz', 'metal', 'pop', 'reggae', 'rock'])"
            ]
          },
          "execution_count": 17,
          "metadata": {},
          "output_type": "execute_result"
        }
      ],
      "source": [
        "label_dict ={'blues':0,'classical':1,'country':2,'disco':3,'hiphop':4,'jazz':5,'metal':6,'pop':7,'reggae':8,'rock':9}\n",
        "label_dict.keys()"
      ]
    },
    {
      "cell_type": "code",
      "execution_count": null,
      "id": "258f03dd",
      "metadata": {
        "id": "258f03dd",
        "outputId": "b5ec8645-cc2f-4bef-deb1-141d4b90ac7b"
      },
      "outputs": [
        {
          "name": "stdout",
          "output_type": "stream",
          "text": [
            "Confusion matrix, without normalization\n",
            "[[173   0   4   1   9   3  19   2   9   5]\n",
            " [  6 232   1   0   0   0   0   0   3   0]\n",
            " [ 19   3 128  22   1  13   6   5  20  42]\n",
            " [  3   2   1 160  20   0   8  19  31   6]\n",
            " [  5   0   1   7 187   0  13  12  26   0]\n",
            " [ 20  33   5   3   1 147   2   1   9  19]\n",
            " [  4   0   0   3   7   0 244   0   2   9]\n",
            " [  0   1   3  12  17   0   0 198  23   5]\n",
            " [  9   1   5  15  40   0   1   5 163   3]\n",
            " [ 22   3  12  36  16   4  30  10  18 109]]\n"
          ]
        },
        {
          "data": {
            "image/png": "[encoded data removed]",
            "text/plain": [
              "<Figure size 432x288 with 2 Axes>"
            ]
          },
          "metadata": {
            "needs_background": "light"
          },
          "output_type": "display_data"
        }
      ],
      "source": [
        "plot_confusion_matrix(confusion_matrix(y_true=y_test, y_pred=y_pred),\n",
        "                      classes=label_dict.keys())"
      ]
    },
    {
      "cell_type": "markdown",
      "id": "49ee5f6a",
      "metadata": {
        "id": "49ee5f6a"
      },
      "source": [
        "##"
      ]
    },
    {
      "cell_type": "code",
      "execution_count": null,
      "id": "de640658",
      "metadata": {
        "id": "de640658"
      },
      "outputs": [],
      "source": []
    }
  ],
  "metadata": {
    "kernelspec": {
      "display_name": "Python 3 (ipykernel)",
      "language": "python",
      "name": "python3"
    },
    "language_info": {
      "codemirror_mode": {
        "name": "ipython",
        "version": 3
      },
      "file_extension": ".py",
      "mimetype": "text/x-python",
      "name": "python",
      "nbconvert_exporter": "python",
      "pygments_lexer": "ipython3",
      "version": "3.7.4"
    },
    "colab": {
      "provenance": []
    }
  },
  "nbformat": 4,
  "nbformat_minor": 5
}